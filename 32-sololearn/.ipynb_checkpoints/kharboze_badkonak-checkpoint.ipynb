{
 "cells": [
  {
   "cell_type": "code",
   "execution_count": 20,
   "id": "13709382-30f8-456c-86ca-289a7a97df7c",
   "metadata": {},
   "outputs": [],
   "source": [
    "import numpy as np\n",
    "import matplotlib\n",
    "import matplotlib.pyplot as plt\n",
    "%matplotlib widget\n",
    "\n",
    "import pandas as pd\n",
    "import seaborn as sns\n",
    "from mpl_toolkits.mplot3d import Axes3D"
   ]
  },
  {
   "cell_type": "code",
   "execution_count": 21,
   "id": "c0a93017",
   "metadata": {},
   "outputs": [],
   "source": [
    "kh_le = np.random.normal(loc=25, scale=1, size=(1,100))\n",
    "kh_wi = np.random.normal(loc=15, scale=1, size=(1,100))\n",
    "kh_we = np.random.normal(loc=2, scale=2, size=(1,100))"
   ]
  },
  {
   "cell_type": "code",
   "execution_count": 22,
   "id": "58e74d9b",
   "metadata": {},
   "outputs": [],
   "source": [
    "kharboze = np.hstack((kh_le.T, kh_wi.T, kh_we.T))"
   ]
  },
  {
   "cell_type": "code",
   "execution_count": 23,
   "id": "b377c3b8",
   "metadata": {},
   "outputs": [],
   "source": [
    "ba_le = np.random.normal(loc=20, scale=2, size=(1,100))\n",
    "ba_wi = np.random.normal(loc=20, scale=1, size=(1,100))\n",
    "ba_we = np.random.normal(loc=0.2, scale=1, size=(1,100))"
   ]
  },
  {
   "cell_type": "code",
   "execution_count": 24,
   "id": "23e5d754",
   "metadata": {},
   "outputs": [],
   "source": [
    "badkonak = np.hstack((ba_le.T, ba_wi.T, ba_we.T))"
   ]
  },
  {
   "cell_type": "code",
   "execution_count": 25,
   "id": "d6d606f7",
   "metadata": {},
   "outputs": [
    {
     "data": {
      "text/plain": [
       "(100, 3)"
      ]
     },
     "execution_count": 25,
     "metadata": {},
     "output_type": "execute_result"
    }
   ],
   "source": [
    "kharboze.shape"
   ]
  },
  {
   "cell_type": "code",
   "execution_count": 26,
   "id": "8b3cbff1",
   "metadata": {
    "tags": []
   },
   "outputs": [
    {
     "data": {
      "text/plain": [
       "(100, 3)"
      ]
     },
     "execution_count": 26,
     "metadata": {},
     "output_type": "execute_result"
    }
   ],
   "source": [
    "badkonak.shape"
   ]
  },
  {
   "cell_type": "code",
   "execution_count": 27,
   "id": "c5e4f46a",
   "metadata": {
    "tags": []
   },
   "outputs": [
    {
     "data": {
      "application/vnd.jupyter.widget-view+json": {
       "model_id": "115890f226c24823b241ca1ad1fcaa06",
       "version_major": 2,
       "version_minor": 0
      },
      "text/plain": [
       "Canvas(toolbar=Toolbar(toolitems=[('Home', 'Reset original view', 'home', 'home'), ('Back', 'Back to previous …"
      ]
     },
     "metadata": {},
     "output_type": "display_data"
    }
   ],
   "source": [
    "sns.set(style = \"darkgrid\")\n",
    "\n",
    "fig = plt.figure()\n",
    "ax = fig.add_subplot(111, projection = '3d')\n",
    "ax.use_sticky_edges = False\n",
    "ax.set_xlabel(\"length\")\n",
    "ax.set_ylabel(\"width\")\n",
    "ax.set_zlabel(\"weight\")\n",
    "\n",
    "ax.scatter(kh_le, kh_wi, kh_we)\n",
    "ax.scatter(ba_le, ba_wi, ba_we)\n",
    "\n",
    "plt.show()"
   ]
  },
  {
   "cell_type": "code",
   "execution_count": null,
   "id": "91c20f04",
   "metadata": {},
   "outputs": [],
   "source": []
  }
 ],
 "metadata": {
  "interpreter": {
   "hash": "d8da11a211f5292e0f2e616d4a053e2cb4354bae2c5c73d6b300798867a19304"
  },
  "kernelspec": {
   "display_name": "Python 3 (ipykernel)",
   "language": "python",
   "name": "python3"
  },
  "language_info": {
   "codemirror_mode": {
    "name": "ipython",
    "version": 3
   },
   "file_extension": ".py",
   "mimetype": "text/x-python",
   "name": "python",
   "nbconvert_exporter": "python",
   "pygments_lexer": "ipython3",
   "version": "3.7.9"
  }
 },
 "nbformat": 4,
 "nbformat_minor": 5
}
