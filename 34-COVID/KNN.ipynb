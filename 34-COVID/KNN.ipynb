{
 "cells": [
  {
   "cell_type": "code",
   "execution_count": 28,
   "id": "3ceccc2a-23c6-458d-9760-a26ca52285f0",
   "metadata": {},
   "outputs": [],
   "source": [
    "import numpy as np\n",
    "import pandas as pd\n",
    "import matplotlib.pyplot as plt"
   ]
  },
  {
   "cell_type": "code",
   "execution_count": 34,
   "id": "b33d7bd0-6035-451c-ac02-f498b2ea4190",
   "metadata": {},
   "outputs": [],
   "source": [
    "def data_maker(n_sample, std_, mean_len, mean_wid):\n",
    "    N = n_sample\n",
    "    std = std_\n",
    "\n",
    "    bananas_width = np.random.normal(mean_wid[0], std, N)\n",
    "    apples_width = np.random.normal(mean_wid[1], std, N)\n",
    "\n",
    "    bananas_length = np.random.normal(mean_len[0], std, N)\n",
    "    apples_length = np.random.normal(mean_len[1], std, N)\n",
    "\n",
    "    width = np.concatenate((bananas_width, apples_width))\n",
    "    length = np.concatenate((bananas_length, apples_length))\n",
    "\n",
    "    X = np.array([width, length]).T\n",
    "\n",
    "    bananas_label = np.zeros(N, dtype='int')\n",
    "    apples_labels = np.ones(N, dtype='int')\n",
    "\n",
    "    Y = np.concatenate((bananas_label, apples_labels))\n",
    "    return X, Y"
   ]
  },
  {
   "cell_type": "code",
   "execution_count": 40,
   "id": "14220c2d-92c1-4686-a32e-5626ba767ad4",
   "metadata": {},
   "outputs": [],
   "source": [
    "class KNearestNeighbors:\n",
    "    def __init__(self, k):\n",
    "        self.k = k\n",
    "    \n",
    "    def fit(self, X_train, y_train):\n",
    "        self.X_train = X_train\n",
    "        self.y_train = y_train\n",
    "        self.number_classes = len(np.unique(y_train))\n",
    "    \n",
    "    def nearNeighbors(self, x_test):\n",
    "        distance = np.sqrt(np.sum((x_test - self.X_train)**2, axis=1))\n",
    "        near_neighbors = np.argsort(distance)[0:self.k]\n",
    "        return near_neighbors\n",
    "    \n",
    "    def predict(self, x_test):\n",
    "        near_neighbors = self.nearNeighbors(x_test)\n",
    "        y = np.argmax(np.bincount(self.y_train[near_neighbors]))\n",
    "        return y\n",
    "    \n",
    "    def evaluate(self, x, y):\n",
    "        pred_list = []\n",
    "        for item in x:\n",
    "            pred_list.append(self.predict(item))\n",
    "        score = np.sum(y == np.array(pred_list))\n",
    "        return score"
   ]
  },
  {
   "cell_type": "code",
   "execution_count": 42,
   "id": "8225282c-ab68-48ea-8a07-333be1ea7bf8",
   "metadata": {},
   "outputs": [],
   "source": [
    "knn = KNearestNeighbors(k=5)\n",
    "X, Y = data_maker(100, 0.6, (8,6), (4,6))\n",
    "knn.fit(X, Y)"
   ]
  },
  {
   "cell_type": "code",
   "execution_count": 43,
   "id": "2739a5df-ec44-4780-ba67-fdfd7ee7908b",
   "metadata": {},
   "outputs": [
    {
     "name": "stdout",
     "output_type": "stream",
     "text": [
      "0\n"
     ]
    }
   ],
   "source": [
    "mive_jadid = np.array([4.7, 6.8])\n",
    "y_pred = knn.predict(mive_jadid)\n",
    "print(y_pred)"
   ]
  },
  {
   "cell_type": "code",
   "execution_count": 44,
   "id": "93b2d7ff-2fae-4444-9e8f-62b5a6e63056",
   "metadata": {},
   "outputs": [
    {
     "name": "stdout",
     "output_type": "stream",
     "text": [
      "100\n"
     ]
    }
   ],
   "source": [
    "X1, Y1 = data_maker(50, 0.3, (8,6), (4,6))\n",
    "score1 = knn.evaluate(X1, Y1)\n",
    "print(score1)"
   ]
  },
  {
   "cell_type": "markdown",
   "id": "17797d50-9ee3-492a-a561-eadb1318ee04",
   "metadata": {},
   "source": [
    "### Scikit-learn"
   ]
  },
  {
   "cell_type": "code",
   "execution_count": null,
   "id": "e1780502-3e83-4176-8470-27b9f9140776",
   "metadata": {},
   "outputs": [],
   "source": [
    "from sklearn.neighbors import KNeighborsClassifier\n",
    "neigh = KNeighborsClassifier(n_neighbors=3)\n"
   ]
  }
 ],
 "metadata": {
  "kernelspec": {
   "display_name": "Python 3 (ipykernel)",
   "language": "python",
   "name": "python3"
  },
  "language_info": {
   "codemirror_mode": {
    "name": "ipython",
    "version": 3
   },
   "file_extension": ".py",
   "mimetype": "text/x-python",
   "name": "python",
   "nbconvert_exporter": "python",
   "pygments_lexer": "ipython3",
   "version": "3.7.9"
  }
 },
 "nbformat": 4,
 "nbformat_minor": 5
}
