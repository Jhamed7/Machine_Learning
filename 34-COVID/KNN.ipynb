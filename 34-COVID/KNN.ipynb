{
 "cells": [
  {
   "cell_type": "code",
   "execution_count": 1,
   "id": "3ceccc2a-23c6-458d-9760-a26ca52285f0",
   "metadata": {},
   "outputs": [],
   "source": [
    "import numpy as np\n",
    "import pandas as pd\n",
    "import matplotlib.pyplot as plt"
   ]
  },
  {
   "cell_type": "code",
   "execution_count": 2,
   "id": "b33d7bd0-6035-451c-ac02-f498b2ea4190",
   "metadata": {},
   "outputs": [],
   "source": [
    "def data_maker(n_sample, std_, mean_len, mean_wid):\n",
    "    N = n_sample\n",
    "    std = std_\n",
    "\n",
    "    bananas_width = np.random.normal(mean_wid[0], std, N)\n",
    "    apples_width = np.random.normal(mean_wid[1], std, N)\n",
    "\n",
    "    bananas_length = np.random.normal(mean_len[0], std, N)\n",
    "    apples_length = np.random.normal(mean_len[1], std, N)\n",
    "\n",
    "    width = np.concatenate((bananas_width, apples_width))\n",
    "    length = np.concatenate((bananas_length, apples_length))\n",
    "\n",
    "    X = np.array([width, length]).T\n",
    "\n",
    "    bananas_label = np.zeros(N, dtype='int')\n",
    "    apples_labels = np.ones(N, dtype='int')\n",
    "\n",
    "    Y = np.concatenate((bananas_label, apples_labels))\n",
    "    return X, Y"
   ]
  },
  {
   "cell_type": "code",
   "execution_count": 3,
   "id": "14220c2d-92c1-4686-a32e-5626ba767ad4",
   "metadata": {},
   "outputs": [],
   "source": [
    "class KNearestNeighbors:\n",
    "    def __init__(self, k):\n",
    "        self.k = k\n",
    "    \n",
    "    def fit(self, X_train, y_train):\n",
    "        self.X_train = X_train\n",
    "        self.y_train = y_train\n",
    "        self.number_classes = len(np.unique(y_train))\n",
    "    \n",
    "    def nearNeighbors(self, x_test):\n",
    "        distance = np.sqrt(np.sum((x_test - self.X_train)**2, axis=1))\n",
    "        near_neighbors = np.argsort(distance)[0:self.k]\n",
    "        return near_neighbors\n",
    "    \n",
    "    def predict(self, x_test):\n",
    "        near_neighbors = self.nearNeighbors(x_test)\n",
    "        print(near_neighbors)\n",
    "        y = np.argmax(np.bincount(self.y_train[near_neighbors]))\n",
    "        return y\n",
    "    \n",
    "    def evaluate(self, x, y):\n",
    "        pred_list = []\n",
    "        for item in x:\n",
    "            pred_list.append(self.predict(item))\n",
    "        score = np.sum(y == np.array(pred_list))\n",
    "        return score"
   ]
  },
  {
   "cell_type": "code",
   "execution_count": 4,
   "id": "8225282c-ab68-48ea-8a07-333be1ea7bf8",
   "metadata": {},
   "outputs": [],
   "source": [
    "knn = KNearestNeighbors(k=5)\n",
    "X, Y = data_maker(100, 0.6, (8,6), (4,6))\n",
    "knn.fit(X, Y)"
   ]
  },
  {
   "cell_type": "code",
   "execution_count": 5,
   "id": "2739a5df-ec44-4780-ba67-fdfd7ee7908b",
   "metadata": {},
   "outputs": [
    {
     "name": "stdout",
     "output_type": "stream",
     "text": [
      "[120 176 143  93 158]\n",
      "1\n"
     ]
    }
   ],
   "source": [
    "mive_jadid = np.array([4.7, 6.8])\n",
    "y_pred = knn.predict(mive_jadid)\n",
    "print(y_pred)"
   ]
  },
  {
   "cell_type": "code",
   "execution_count": 6,
   "id": "93b2d7ff-2fae-4444-9e8f-62b5a6e63056",
   "metadata": {},
   "outputs": [
    {
     "name": "stdout",
     "output_type": "stream",
     "text": [
      "[13 86 90  5 66]\n",
      "[83 47 98  9 90]\n",
      "[43 31 40 58  4]\n",
      "[ 9 90 86 13 66]\n",
      "[28  6 17 34  5]\n",
      "[53  6 34 85 66]\n",
      "[96 32 52 57 41]\n",
      "[27 82 84 78 17]\n",
      "[43 58 31 59  4]\n",
      "[85 91 51 53 61]\n",
      "[39 14 77 37 30]\n",
      "[84 27 94 82 78]\n",
      "[40 43 31 73 76]\n",
      "[72 49 83 68  9]\n",
      "[85 62 61 91 53]\n",
      "[84 94 27 70 82]\n",
      "[78 46 70 82 27]\n",
      "[ 1 58  4 24 11]\n",
      "[ 8 30 34 29 87]\n",
      "[ 4  1 24 58 61]\n",
      "[14 39 30 77  8]\n",
      "[51 30 91  8 85]\n",
      "[ 1 47 24  4 98]\n",
      "[61 24  4 51 85]\n",
      "[61 24  4 58 85]\n",
      "[24  4 61 58  1]\n",
      "[ 4 24 58 61  1]\n",
      "[ 9 90 83 86 47]\n",
      "[51 91 14 85 76]\n",
      "[15 73 92 31 43]\n",
      "[11 23 44 75 63]\n",
      "[94 84 27 82 60]\n",
      "[30 51  8 91 14]\n",
      "[34  8 30 53  6]\n",
      "[75 67 80 11 23]\n",
      "[61 24  4 58 85]\n",
      "[53 91 34 30 85]\n",
      "[61 85 24 62 91]\n",
      "[47 62 98 61 24]\n",
      "[58 59 43  4 44]\n",
      "[ 3 76 40 73 14]\n",
      "[24  4 61 58  1]\n",
      "[53  6 85 91 34]\n",
      "[90  9 86 13 66]\n",
      "[ 1 58  4 24 11]\n",
      "[51 14 30 39 76]\n",
      "[97 44 92 23 59]\n",
      "[ 5 17 16 28 13]\n",
      "[88 25 37 22 77]\n",
      "[66  6 53  5 85]\n",
      "[154 189 157 113 168]\n",
      "[110 189 116 141 105]\n",
      "[107 174 177 144 139]\n",
      "[102 107 174 111 106]\n",
      "[189 110 105 154 116]\n",
      "[160 154 159 141 129]\n",
      "[154 125 144 157 113]\n",
      "[142 133 109 163 123]\n",
      "[168 125 186 157 119]\n",
      "[125 168 157 113 186]\n",
      "[151 188 101 196 105]\n",
      "[136 128 135 159 138]\n",
      "[129 150 159 114 128]\n",
      "[189 105 110 101 154]\n",
      "[150 114 129 169 159]\n",
      "[166 160 137 115 129]\n",
      "[128 138 135 136 159]\n",
      "[189 154 110 105 113]\n",
      "[151 188 196 199 101]\n",
      "[154 157 113 168 189]\n",
      "[105 101 189 126 188]\n",
      "[154 189 110 105 141]\n",
      "[125 177 144 168 139]\n",
      "[115 106 137 166 197]\n",
      "[160 166 115 137 144]\n",
      "[196 116 193 151 199]\n",
      "[159 129 136 135 160]\n",
      "[168 125 186 157 119]\n",
      "[189 105 101 113 157]\n",
      "[105 188 189 196 116]\n",
      "[168 157 113 186 119]\n",
      "[142 147 133 191 112]\n",
      "[177 125 174 144 139]\n",
      "[102 107 174 177 106]\n",
      "[144 154 160 177 125]\n",
      "[115 137 166 106 197]\n",
      "[196 151 188 116 105]\n",
      "[125 168 157 113 186]\n",
      "[144 160 166 174 115]\n",
      "[170 150 137 129 166]\n",
      "[157 113 168 126 186]\n",
      "[160 154 144 166 115]\n",
      "[177 125 139 174 144]\n",
      "[154 160 110 141 159]\n",
      "[102 107 174 106 111]\n",
      "[105 189 101 188 126]\n",
      "[105 189 188 110 196]\n",
      "[150 114 129 159 169]\n",
      "[124 117 161 164 198]\n",
      "[157 113 154 168 125]\n",
      "100\n"
     ]
    }
   ],
   "source": [
    "X1, Y1 = data_maker(50, 0.3, (8,6), (4,6))\n",
    "score1 = knn.evaluate(X1, Y1)\n",
    "print(score1)"
   ]
  },
  {
   "cell_type": "markdown",
   "id": "17797d50-9ee3-492a-a561-eadb1318ee04",
   "metadata": {},
   "source": [
    "### Scikit-learn"
   ]
  },
  {
   "cell_type": "code",
   "execution_count": 7,
   "id": "e1780502-3e83-4176-8470-27b9f9140776",
   "metadata": {},
   "outputs": [],
   "source": [
    "from sklearn.neighbors import KNeighborsClassifier\n",
    "neigh = KNeighborsClassifier(n_neighbors=3)\n"
   ]
  }
 ],
 "metadata": {
  "kernelspec": {
   "display_name": "Python 3 (ipykernel)",
   "language": "python",
   "name": "python3"
  },
  "language_info": {
   "codemirror_mode": {
    "name": "ipython",
    "version": 3
   },
   "file_extension": ".py",
   "mimetype": "text/x-python",
   "name": "python",
   "nbconvert_exporter": "python",
   "pygments_lexer": "ipython3",
   "version": "3.7.9"
  }
 },
 "nbformat": 4,
 "nbformat_minor": 5
}
