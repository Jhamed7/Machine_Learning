{
 "cells": [
  {
   "cell_type": "code",
   "execution_count": 1,
   "id": "6dcf92c1-c4bb-4099-8fc4-e991114382f0",
   "metadata": {},
   "outputs": [],
   "source": [
    "import matplotlib\n",
    "from mpl_toolkits.mplot3d import Axes3D\n",
    "import numpy as np\n",
    "from numpy.linalg import inv\n",
    "import pandas as pd\n",
    "import matplotlib.pyplot as plt\n",
    "import seaborn as sns\n",
    "from sklearn.datasets import load_boston\n",
    "from sklearn.model_selection import train_test_split\n",
    "%matplotlib widget"
   ]
  },
  {
   "cell_type": "code",
   "execution_count": 2,
   "id": "5a88175b-476f-4f77-ad87-0806062eba37",
   "metadata": {},
   "outputs": [
    {
     "name": "stdout",
     "output_type": "stream",
     "text": [
      "(506, 13)\n",
      "(506,)\n"
     ]
    }
   ],
   "source": [
    "X, y = load_boston(return_X_y=True)\n",
    "print(X.shape)\n",
    "print(y.shape)"
   ]
  },
  {
   "cell_type": "code",
   "execution_count": 3,
   "id": "566813d3-49e5-4c77-9c97-bfff3903e9a0",
   "metadata": {},
   "outputs": [],
   "source": [
    "X_train, X_test, y_train, y_test = train_test_split(X, y, test_size=0.2, random_state=35)"
   ]
  },
  {
   "cell_type": "code",
   "execution_count": 4,
   "id": "0fc878f7-0bba-4f63-b0f8-7b132e285a58",
   "metadata": {},
   "outputs": [
    {
     "data": {
      "text/plain": [
       "dict_keys(['data', 'target', 'feature_names', 'DESCR', 'filename'])"
      ]
     },
     "execution_count": 4,
     "metadata": {},
     "output_type": "execute_result"
    }
   ],
   "source": [
    "data = load_boston()\n",
    "data.keys()"
   ]
  },
  {
   "cell_type": "code",
   "execution_count": 5,
   "id": "2a550467-fe8f-4bb0-a350-aafa89e95ac6",
   "metadata": {},
   "outputs": [
    {
     "data": {
      "text/plain": [
       "array(['CRIM', 'ZN', 'INDUS', 'CHAS', 'NOX', 'RM', 'AGE', 'DIS', 'RAD',\n",
       "       'TAX', 'PTRATIO', 'B', 'LSTAT'], dtype='<U7')"
      ]
     },
     "execution_count": 5,
     "metadata": {},
     "output_type": "execute_result"
    }
   ],
   "source": [
    "data['feature_names']"
   ]
  },
  {
   "cell_type": "code",
   "execution_count": 6,
   "id": "e61c4d94-0181-4b67-9ddc-1fc6ae5f0c60",
   "metadata": {},
   "outputs": [
    {
     "data": {
      "text/html": [
       "<div>\n",
       "<style scoped>\n",
       "    .dataframe tbody tr th:only-of-type {\n",
       "        vertical-align: middle;\n",
       "    }\n",
       "\n",
       "    .dataframe tbody tr th {\n",
       "        vertical-align: top;\n",
       "    }\n",
       "\n",
       "    .dataframe thead th {\n",
       "        text-align: right;\n",
       "    }\n",
       "</style>\n",
       "<table border=\"1\" class=\"dataframe\">\n",
       "  <thead>\n",
       "    <tr style=\"text-align: right;\">\n",
       "      <th></th>\n",
       "      <th>CRIM</th>\n",
       "      <th>ZN</th>\n",
       "      <th>INDUS</th>\n",
       "      <th>CHAS</th>\n",
       "      <th>NOX</th>\n",
       "      <th>RM</th>\n",
       "      <th>AGE</th>\n",
       "      <th>DIS</th>\n",
       "      <th>RAD</th>\n",
       "      <th>TAX</th>\n",
       "      <th>PTRATIO</th>\n",
       "      <th>B</th>\n",
       "      <th>LSTAT</th>\n",
       "      <th>price</th>\n",
       "    </tr>\n",
       "  </thead>\n",
       "  <tbody>\n",
       "    <tr>\n",
       "      <th>0</th>\n",
       "      <td>0.00632</td>\n",
       "      <td>18.0</td>\n",
       "      <td>2.31</td>\n",
       "      <td>0.0</td>\n",
       "      <td>0.538</td>\n",
       "      <td>6.575</td>\n",
       "      <td>65.2</td>\n",
       "      <td>4.0900</td>\n",
       "      <td>1.0</td>\n",
       "      <td>296.0</td>\n",
       "      <td>15.3</td>\n",
       "      <td>396.90</td>\n",
       "      <td>4.98</td>\n",
       "      <td>24.0</td>\n",
       "    </tr>\n",
       "    <tr>\n",
       "      <th>1</th>\n",
       "      <td>0.02731</td>\n",
       "      <td>0.0</td>\n",
       "      <td>7.07</td>\n",
       "      <td>0.0</td>\n",
       "      <td>0.469</td>\n",
       "      <td>6.421</td>\n",
       "      <td>78.9</td>\n",
       "      <td>4.9671</td>\n",
       "      <td>2.0</td>\n",
       "      <td>242.0</td>\n",
       "      <td>17.8</td>\n",
       "      <td>396.90</td>\n",
       "      <td>9.14</td>\n",
       "      <td>21.6</td>\n",
       "    </tr>\n",
       "    <tr>\n",
       "      <th>2</th>\n",
       "      <td>0.02729</td>\n",
       "      <td>0.0</td>\n",
       "      <td>7.07</td>\n",
       "      <td>0.0</td>\n",
       "      <td>0.469</td>\n",
       "      <td>7.185</td>\n",
       "      <td>61.1</td>\n",
       "      <td>4.9671</td>\n",
       "      <td>2.0</td>\n",
       "      <td>242.0</td>\n",
       "      <td>17.8</td>\n",
       "      <td>392.83</td>\n",
       "      <td>4.03</td>\n",
       "      <td>34.7</td>\n",
       "    </tr>\n",
       "    <tr>\n",
       "      <th>3</th>\n",
       "      <td>0.03237</td>\n",
       "      <td>0.0</td>\n",
       "      <td>2.18</td>\n",
       "      <td>0.0</td>\n",
       "      <td>0.458</td>\n",
       "      <td>6.998</td>\n",
       "      <td>45.8</td>\n",
       "      <td>6.0622</td>\n",
       "      <td>3.0</td>\n",
       "      <td>222.0</td>\n",
       "      <td>18.7</td>\n",
       "      <td>394.63</td>\n",
       "      <td>2.94</td>\n",
       "      <td>33.4</td>\n",
       "    </tr>\n",
       "    <tr>\n",
       "      <th>4</th>\n",
       "      <td>0.06905</td>\n",
       "      <td>0.0</td>\n",
       "      <td>2.18</td>\n",
       "      <td>0.0</td>\n",
       "      <td>0.458</td>\n",
       "      <td>7.147</td>\n",
       "      <td>54.2</td>\n",
       "      <td>6.0622</td>\n",
       "      <td>3.0</td>\n",
       "      <td>222.0</td>\n",
       "      <td>18.7</td>\n",
       "      <td>396.90</td>\n",
       "      <td>5.33</td>\n",
       "      <td>36.2</td>\n",
       "    </tr>\n",
       "  </tbody>\n",
       "</table>\n",
       "</div>"
      ],
      "text/plain": [
       "      CRIM    ZN  INDUS  CHAS    NOX     RM   AGE     DIS  RAD    TAX  \\\n",
       "0  0.00632  18.0   2.31   0.0  0.538  6.575  65.2  4.0900  1.0  296.0   \n",
       "1  0.02731   0.0   7.07   0.0  0.469  6.421  78.9  4.9671  2.0  242.0   \n",
       "2  0.02729   0.0   7.07   0.0  0.469  7.185  61.1  4.9671  2.0  242.0   \n",
       "3  0.03237   0.0   2.18   0.0  0.458  6.998  45.8  6.0622  3.0  222.0   \n",
       "4  0.06905   0.0   2.18   0.0  0.458  7.147  54.2  6.0622  3.0  222.0   \n",
       "\n",
       "   PTRATIO       B  LSTAT  price  \n",
       "0     15.3  396.90   4.98   24.0  \n",
       "1     17.8  396.90   9.14   21.6  \n",
       "2     17.8  392.83   4.03   34.7  \n",
       "3     18.7  394.63   2.94   33.4  \n",
       "4     18.7  396.90   5.33   36.2  "
      ]
     },
     "execution_count": 6,
     "metadata": {},
     "output_type": "execute_result"
    }
   ],
   "source": [
    "z = np.hstack((X, y.reshape(-1, 1)))\n",
    "df = pd.DataFrame(data=z, columns = np.append(data['feature_names'], 'price'))\n",
    "df.head()"
   ]
  },
  {
   "cell_type": "code",
   "execution_count": 19,
   "id": "022f1ea4-87a7-4471-ae7c-273da6edb12a",
   "metadata": {},
   "outputs": [],
   "source": [
    "# g = sns.PairGrid(df)\n",
    "# g.map(sns.scatterplot)"
   ]
  },
  {
   "cell_type": "code",
   "execution_count": 8,
   "id": "3831e8a2-c2a4-46b5-8421-114ee9bf4260",
   "metadata": {},
   "outputs": [],
   "source": [
    "#random data function\n",
    "\n",
    "def data_maker(n_sample):\n",
    "    N = n_sample\n",
    "\n",
    "    p = np.c_[np.random.normal(1,0.7,(N)), np.random.normal(3,0.5,(N))]\n",
    "    t = np.c_[np.random.normal(2,0.5,(N)), np.random.normal(2,0.5,(N))]\n",
    "    data = np.vstack((p ,t))\n",
    "\n",
    "    label = np.vstack((np.zeros([N,1], dtype='int'), np.ones([N,1], dtype='int')))\n",
    "\n",
    "    return data, label"
   ]
  },
  {
   "cell_type": "code",
   "execution_count": 9,
   "id": "098c6e7d-89e0-4687-8c10-487578e44e4e",
   "metadata": {},
   "outputs": [],
   "source": [
    "class AdalineRegressor:\n",
    "    def __init__(self):\n",
    "        pass\n",
    "    \n",
    "    def fit(self, X_train, Y_train):\n",
    "        self.w = np.matmul(inv(np.matmul(X_train.T, X_train)), np.matmul(X_train.T, Y_train))\n",
    "\n",
    "    def predict(self, X_test):\n",
    "        Y_pred = np.matmul(X_test, self.w)\n",
    "        return Y_pred\n",
    "    \n",
    "    def evaluate(self, y_pred, Y_test, method='MAE'):\n",
    "        # y_pred = self.predict(X_test)\n",
    "        if method == 'MAE':\n",
    "            error = np.mean(np.abs(Y_test - y_pred))  # mae\n",
    "        elif method == 'MSE':\n",
    "            error = np.mean(np.abs((Y_test - y_pred)**2))  # mse\n",
    "        return error"
   ]
  },
  {
   "cell_type": "code",
   "execution_count": 10,
   "id": "ce7e70a5-b4cd-47ef-aee3-5a4683233d60",
   "metadata": {},
   "outputs": [],
   "source": [
    "ada = AdalineRegressor()"
   ]
  },
  {
   "cell_type": "code",
   "execution_count": 11,
   "id": "96c66ef3-35cd-4514-bb07-5bd3903b97b7",
   "metadata": {},
   "outputs": [],
   "source": [
    "ada.fit(X_train[:,[5,-1]], y_train)"
   ]
  },
  {
   "cell_type": "code",
   "execution_count": 12,
   "id": "b8836a88-1fbd-496b-ac62-0aa12b950d47",
   "metadata": {},
   "outputs": [
    {
     "data": {
      "text/plain": [
       "array([ 4.96348867, -0.67574476])"
      ]
     },
     "execution_count": 12,
     "metadata": {},
     "output_type": "execute_result"
    }
   ],
   "source": [
    "ada.w"
   ]
  },
  {
   "cell_type": "code",
   "execution_count": 13,
   "id": "b1a7b396-9cb1-40b2-8411-8c505b557898",
   "metadata": {},
   "outputs": [],
   "source": [
    "y_pred = ada.predict(X_test[:,[5,-1]])"
   ]
  },
  {
   "cell_type": "code",
   "execution_count": 14,
   "id": "d74097b2-e6ae-4db1-8fba-b010df2b3555",
   "metadata": {},
   "outputs": [
    {
     "data": {
      "text/plain": [
       "(102,)"
      ]
     },
     "execution_count": 14,
     "metadata": {},
     "output_type": "execute_result"
    }
   ],
   "source": [
    "y_pred.shape"
   ]
  },
  {
   "cell_type": "code",
   "execution_count": 21,
   "id": "5f85792d-9d62-435a-9495-a6d192ae3239",
   "metadata": {},
   "outputs": [
    {
     "data": {
      "text/plain": [
       "3.514164266956756"
      ]
     },
     "execution_count": 21,
     "metadata": {},
     "output_type": "execute_result"
    }
   ],
   "source": [
    "ada.evaluate(y_pred, y_test, method='MAE')"
   ]
  },
  {
   "cell_type": "code",
   "execution_count": 22,
   "id": "d6001923-cbfa-4648-a9bd-0a88623753ab",
   "metadata": {},
   "outputs": [
    {
     "data": {
      "text/plain": [
       "23.761198970904214"
      ]
     },
     "execution_count": 22,
     "metadata": {},
     "output_type": "execute_result"
    }
   ],
   "source": [
    "ada.evaluate(y_pred, y_test, method='MSE')"
   ]
  },
  {
   "cell_type": "markdown",
   "id": "ba682252-3294-4848-814a-98cefb2748ee",
   "metadata": {},
   "source": [
    "## Plot 3D"
   ]
  },
  {
   "cell_type": "code",
   "execution_count": 20,
   "id": "8a2d5a12-83c2-47e6-a2ef-2c0ffd1ee103",
   "metadata": {},
   "outputs": [
    {
     "data": {
      "application/vnd.jupyter.widget-view+json": {
       "model_id": "11f5013ce6e64beca732323337d76951",
       "version_major": 2,
       "version_minor": 0
      },
      "text/plain": [
       "Canvas(toolbar=Toolbar(toolitems=[('Home', 'Reset original view', 'home', 'home'), ('Back', 'Back to previous …"
      ]
     },
     "metadata": {},
     "output_type": "display_data"
    }
   ],
   "source": [
    "fig = plt.figure()\n",
    "\n",
    "ax = fig.add_subplot(111,projection='3d')\n",
    "\n",
    "xx, yy = X_train[:,5], X_train[:,-1]\n",
    "z = y_train\n",
    "ax.scatter(xx, yy, z, marker='o', c='g')\n",
    "\n",
    "xxx, yyy = np.meshgrid(xx, yy)\n",
    "zz = ada.w[0]*xxx + ada.w[1]*yyy\n",
    "ax.plot_surface(xxx, yyy, zz, alpha=0.5)\n",
    "\n",
    "plt.rcParams[\"figure.figsize\"] = (5,5)\n",
    "plt.show()"
   ]
  },
  {
   "cell_type": "code",
   "execution_count": null,
   "id": "c5aba3f6-1234-45af-8fcb-2077923b9fb2",
   "metadata": {},
   "outputs": [],
   "source": []
  }
 ],
 "metadata": {
  "kernelspec": {
   "display_name": "Python 3 (ipykernel)",
   "language": "python",
   "name": "python3"
  },
  "language_info": {
   "codemirror_mode": {
    "name": "ipython",
    "version": 3
   },
   "file_extension": ".py",
   "mimetype": "text/x-python",
   "name": "python",
   "nbconvert_exporter": "python",
   "pygments_lexer": "ipython3",
   "version": "3.7.9"
  }
 },
 "nbformat": 4,
 "nbformat_minor": 5
}
