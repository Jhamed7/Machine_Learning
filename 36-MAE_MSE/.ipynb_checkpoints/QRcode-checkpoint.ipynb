{
 "cells": [
  {
   "cell_type": "code",
   "execution_count": 1,
   "id": "598ae71c-1689-4f65-893e-5acaab2e22c3",
   "metadata": {},
   "outputs": [],
   "source": [
    "from pyzbar.pyzbar import decode\n",
    "import cv2\n",
    "import numpy as np\n",
    "import sys"
   ]
  },
  {
   "cell_type": "code",
   "execution_count": 2,
   "id": "4a6402eb-ce07-4009-b410-a7eb85ede108",
   "metadata": {},
   "outputs": [
    {
     "data": {
      "text/plain": [
       "'http://bit.ly/e1E62g?r=qr'"
      ]
     },
     "execution_count": 2,
     "metadata": {},
     "output_type": "execute_result"
    }
   ],
   "source": [
    "decode(cv2.imread('qrcode.jpg'))[0].data.decode(\"utf-8\") "
   ]
  },
  {
   "cell_type": "code",
   "execution_count": 3,
   "id": "92b809e6-ff46-4923-b07d-6f7a28afb324",
   "metadata": {},
   "outputs": [],
   "source": [
    "cap = cv2.VideoCapture(0)\n",
    "width  = int(cap.get(3))\n",
    "height = int(cap.get(4))\n",
    "\n",
    "while(True):\n",
    "\n",
    "    ret, frame = cap.read()\n",
    "    \n",
    "    if not ret:\n",
    "        break\n",
    "    middle = int(height/2), int(width/2)\n",
    "    margin = 70\n",
    "    sub_frame = frame[middle[0]-margin:middle[0]+margin , middle[1]-margin:middle[1]+margin]\n",
    "    cv2.rectangle(frame, (middle[1]-margin, middle[0]-margin), (middle[1]+margin, middle[0]+margin), (255,0,0), 2)\n",
    "    \n",
    "    if decode(sub_frame):\n",
    "        try:\n",
    "            font = cv2.FONT_HERSHEY_SIMPLEX\n",
    "            text = decode(frame)[0].data.decode(\"utf-8\") \n",
    "            cv2.putText(frame,text,(50,100), font, 1, (0, 255, 255), 2, cv2.LINE_AA)\n",
    "        except:\n",
    "            print('unrecognized text')\n",
    "        \n",
    "    frame = cv2.GaussianBlur(frame, (9,9),0)  # cv2.medianBlur(frame, 5)\n",
    "    frame[middle[0]-margin:middle[0]+margin , middle[1]-margin:middle[1]+margin] = sub_frame\n",
    "\n",
    "    cv2.imshow('frame', frame)\n",
    "\n",
    "    if cv2.waitKey(1) & 0xFF == ord('q'):\n",
    "        break\n",
    "  \n",
    "cap.release()\n",
    "cv2.destroyAllWindows()"
   ]
  },
  {
   "cell_type": "code",
   "execution_count": null,
   "id": "54cc99a9-d921-40ec-ad82-f312c66da485",
   "metadata": {},
   "outputs": [],
   "source": []
  }
 ],
 "metadata": {
  "kernelspec": {
   "display_name": "Python 3 (ipykernel)",
   "language": "python",
   "name": "python3"
  },
  "language_info": {
   "codemirror_mode": {
    "name": "ipython",
    "version": 3
   },
   "file_extension": ".py",
   "mimetype": "text/x-python",
   "name": "python",
   "nbconvert_exporter": "python",
   "pygments_lexer": "ipython3",
   "version": "3.7.9"
  }
 },
 "nbformat": 4,
 "nbformat_minor": 5
}
