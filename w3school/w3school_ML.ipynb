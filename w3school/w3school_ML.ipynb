{
 "cells": [
  {
   "cell_type": "code",
   "execution_count": 1,
   "id": "d3e102cf",
   "metadata": {},
   "outputs": [],
   "source": [
    "import numpy as np\n",
    "import scipy\n",
    "from scipy import stats"
   ]
  },
  {
   "cell_type": "code",
   "execution_count": 2,
   "id": "a44433d3",
   "metadata": {},
   "outputs": [],
   "source": [
    "speed = [99,86,87,88,111,86,103,87,94,78,77,85,86]\n",
    "mean_data = np.mean(speed)\n",
    "median_data = np.median(speed)\n",
    "mode_data = stats.mode(speed)"
   ]
  },
  {
   "cell_type": "code",
   "execution_count": 3,
   "id": "dbca9d26",
   "metadata": {},
   "outputs": [
    {
     "name": "stdout",
     "output_type": "stream",
     "text": [
      "89.76923076923077 87.0 86\n"
     ]
    }
   ],
   "source": [
    "print(mean_data, median_data, mode_data.mode[0])"
   ]
  },
  {
   "cell_type": "code",
   "execution_count": 4,
   "id": "4b4bf73e",
   "metadata": {},
   "outputs": [
    {
     "name": "stdout",
     "output_type": "stream",
     "text": [
      "9.258292301032677 85.71597633136093\n"
     ]
    }
   ],
   "source": [
    "print(np.std(speed), np.var(speed))"
   ]
  },
  {
   "cell_type": "code",
   "execution_count": 5,
   "id": "14a970f9",
   "metadata": {},
   "outputs": [
    {
     "name": "stdout",
     "output_type": "stream",
     "text": [
      "43.0 61.0\n"
     ]
    }
   ],
   "source": [
    "ages = [5,31,43,48,50,41,7,11,15,39,80,82,32,2,8,6,25,36,27,61,31]\n",
    "print(np.percentile(ages, 75), np.percentile(ages, 90))"
   ]
  },
  {
   "cell_type": "markdown",
   "id": "3425c40a",
   "metadata": {},
   "source": [
    "## Data Distribution"
   ]
  },
  {
   "cell_type": "code",
   "execution_count": 6,
   "id": "576c5e03",
   "metadata": {},
   "outputs": [],
   "source": [
    "data_random = np.random.uniform(0.0, 5.0, 100)"
   ]
  },
  {
   "cell_type": "code",
   "execution_count": 7,
   "id": "f0d7f814",
   "metadata": {},
   "outputs": [
    {
     "data": {
      "text/plain": [
       "array([4.22574046, 1.47758598, 4.98978737, 4.4212432 , 1.76332548,\n",
       "       2.58713689, 3.9151004 , 2.41148896, 4.3016883 , 3.18244335,\n",
       "       1.44419886, 0.75349412, 3.26393718, 2.66127364, 4.60935837,\n",
       "       3.96083655, 4.66278   , 1.95448302, 2.67641304, 1.50131754,\n",
       "       1.31797222, 1.49825934, 2.22273699, 3.52498147, 3.549125  ,\n",
       "       1.36301334, 4.19322782, 2.96550444, 4.01165703, 0.33530653,\n",
       "       3.09349373, 0.71154137, 1.59947731, 1.04012924, 3.139304  ,\n",
       "       3.28733398, 4.11499867, 4.00273087, 2.59414669, 3.55075544,\n",
       "       0.93787841, 4.37104048, 4.03462449, 3.3540838 , 0.77546792,\n",
       "       4.80595727, 1.46790422, 4.1298824 , 0.30998401, 4.15605881,\n",
       "       3.03048246, 3.02865389, 4.46508527, 0.87349419, 4.55126711,\n",
       "       1.03216633, 1.80803698, 4.51957661, 3.76881827, 2.50931224,\n",
       "       1.77190539, 1.20261648, 1.29893297, 4.98053354, 2.9489292 ,\n",
       "       1.34290538, 0.9918665 , 2.51397709, 2.48685842, 0.01648298,\n",
       "       2.77119889, 2.43085845, 4.98358118, 4.20459638, 2.74172747,\n",
       "       3.6521274 , 4.03823019, 4.62098597, 2.43459846, 3.89336036,\n",
       "       4.08679681, 4.44766543, 4.60973605, 2.99819353, 2.04200944,\n",
       "       2.74057356, 1.14158731, 1.75002071, 2.69732734, 2.16794938,\n",
       "       3.58811496, 3.67716046, 3.08354173, 4.71750455, 3.05752462,\n",
       "       0.79467168, 1.3479679 , 3.11560346, 3.48575912, 2.11062011])"
      ]
     },
     "execution_count": 7,
     "metadata": {},
     "output_type": "execute_result"
    }
   ],
   "source": [
    "data_random"
   ]
  },
  {
   "cell_type": "code",
   "execution_count": 8,
   "id": "bbd91dbb",
   "metadata": {},
   "outputs": [],
   "source": [
    "data_random2 = np.random.uniform(0.0, 10.0, 100)"
   ]
  },
  {
   "cell_type": "code",
   "execution_count": 9,
   "id": "8d342c39",
   "metadata": {},
   "outputs": [
    {
     "data": {
      "text/plain": [
       "array([8.59387499, 6.09007689, 0.4360231 , 6.21186809, 1.778787  ,\n",
       "       7.67792169, 7.48840754, 2.51723389, 9.421567  , 2.99278853,\n",
       "       3.50461403, 1.75660114, 9.49362052, 4.89377246, 4.85594774,\n",
       "       8.43709152, 1.05610165, 2.53138053, 3.28747487, 6.88692739,\n",
       "       0.7432175 , 7.48811128, 5.60710021, 5.01432458, 6.69363836,\n",
       "       7.1109887 , 4.3706209 , 5.556868  , 6.30646172, 8.69714392,\n",
       "       9.17879405, 1.14863236, 2.45799016, 1.05694985, 1.27662652,\n",
       "       1.45741418, 3.36963261, 7.7465373 , 9.03936262, 6.08314142,\n",
       "       5.81540926, 0.70204725, 3.53641576, 8.15751518, 5.52840718,\n",
       "       4.40674477, 0.33555109, 7.85668695, 9.69533642, 7.75737745,\n",
       "       3.43923767, 5.11009103, 3.83338651, 8.19103283, 8.9310129 ,\n",
       "       9.38252664, 8.60620435, 2.58532582, 6.66641521, 7.36478303,\n",
       "       2.32706802, 5.21157834, 1.68711705, 3.43422661, 4.87659883,\n",
       "       9.07653248, 5.03970649, 9.70540492, 7.53135393, 1.9868812 ,\n",
       "       4.5887867 , 2.17982125, 4.67599651, 2.19394278, 8.98025361,\n",
       "       0.22696709, 0.26490272, 5.86715214, 7.26405088, 0.56209982,\n",
       "       1.75513773, 3.53915095, 5.92112544, 6.38144304, 8.39317176,\n",
       "       6.40096918, 1.45689989, 8.1095679 , 0.41316216, 7.10945398,\n",
       "       2.48075912, 0.98497314, 6.55244069, 6.58179977, 4.88694386,\n",
       "       1.26642086, 3.75618799, 6.55457966, 7.89820629, 4.9205679 ])"
      ]
     },
     "execution_count": 9,
     "metadata": {},
     "output_type": "execute_result"
    }
   ],
   "source": [
    "data_random2"
   ]
  },
  {
   "cell_type": "code",
   "execution_count": 10,
   "id": "d8d69ce9",
   "metadata": {},
   "outputs": [],
   "source": [
    "import matplotlib.pyplot as plt"
   ]
  },
  {
   "cell_type": "code",
   "execution_count": 11,
   "id": "e4c36efa",
   "metadata": {},
   "outputs": [
    {
     "data": {
      "text/plain": [
       "(array([12.,  9.,  9.,  9.,  9.,  9., 12., 11., 10., 10.]),\n",
       " array([0.22696709, 1.17481087, 2.12265465, 3.07049844, 4.01834222,\n",
       "        4.966186  , 5.91402978, 6.86187357, 7.80971735, 8.75756113,\n",
       "        9.70540492]),\n",
       " <BarContainer object of 10 artists>)"
      ]
     },
     "execution_count": 11,
     "metadata": {},
     "output_type": "execute_result"
    },
    {
     "data": {
      "image/png": "[encoded data removed]",
      "text/plain": [
       "<Figure size 432x288 with 1 Axes>"
      ]
     },
     "metadata": {
      "needs_background": "light"
     },
     "output_type": "display_data"
    }
   ],
   "source": [
    "plt.hist(data_random2, 10)"
   ]
  },
  {
   "cell_type": "code",
   "execution_count": 12,
   "id": "4dc0b1ab",
   "metadata": {},
   "outputs": [
    {
     "data": {
      "text/plain": [
       "(array([1040., 1016., 1052.,  985.,  962., 1003.,  967., 1006.,  995.,\n",
       "         977.,  986., 1046., 1000., 1020., 1002., 1005., 1027.,  998.,\n",
       "         970., 1038., 1028.,  960.,  988.,  992.,  967., 1033., 1044.,\n",
       "        1037.,  966., 1014.,  993.,  968., 1005.,  962.,  966., 1022.,\n",
       "         984., 1058.,  927.,  972., 1014., 1026.,  926.,  980., 1041.,\n",
       "        1059., 1033.,  986.,  985.,  987., 1032., 1049.,  999.,  984.,\n",
       "         982., 1000., 1012.,  995., 1025.,  971., 1019.,  981., 1030.,\n",
       "        1040.,  992.,  970., 1022.,  986., 1016., 1031.,  989.,  993.,\n",
       "        1023.,  986.,  953., 1007.,  974., 1022.,  986.,  969.,  994.,\n",
       "        1036.,  993.,  982.,  973., 1003., 1024., 1022., 1012.,  986.,\n",
       "         972., 1043.,  982.,  978.,  998.,  921., 1000., 1009., 1026.,\n",
       "         990.]),\n",
       " array([5.54492659e-05, 5.00544702e-02, 1.00053491e-01, 1.50052512e-01,\n",
       "        2.00051533e-01, 2.50050554e-01, 3.00049575e-01, 3.50048596e-01,\n",
       "        4.00047617e-01, 4.50046638e-01, 5.00045659e-01, 5.50044680e-01,\n",
       "        6.00043701e-01, 6.50042722e-01, 7.00041743e-01, 7.50040764e-01,\n",
       "        8.00039785e-01, 8.50038806e-01, 9.00037827e-01, 9.50036848e-01,\n",
       "        1.00003587e+00, 1.05003489e+00, 1.10003391e+00, 1.15003293e+00,\n",
       "        1.20003195e+00, 1.25003097e+00, 1.30002999e+00, 1.35002902e+00,\n",
       "        1.40002804e+00, 1.45002706e+00, 1.50002608e+00, 1.55002510e+00,\n",
       "        1.60002412e+00, 1.65002314e+00, 1.70002216e+00, 1.75002118e+00,\n",
       "        1.80002020e+00, 1.85001922e+00, 1.90001825e+00, 1.95001727e+00,\n",
       "        2.00001629e+00, 2.05001531e+00, 2.10001433e+00, 2.15001335e+00,\n",
       "        2.20001237e+00, 2.25001139e+00, 2.30001041e+00, 2.35000943e+00,\n",
       "        2.40000846e+00, 2.45000748e+00, 2.50000650e+00, 2.55000552e+00,\n",
       "        2.60000454e+00, 2.65000356e+00, 2.70000258e+00, 2.75000160e+00,\n",
       "        2.80000062e+00, 2.84999964e+00, 2.89999867e+00, 2.94999769e+00,\n",
       "        2.99999671e+00, 3.04999573e+00, 3.09999475e+00, 3.14999377e+00,\n",
       "        3.19999279e+00, 3.24999181e+00, 3.29999083e+00, 3.34998985e+00,\n",
       "        3.39998887e+00, 3.44998790e+00, 3.49998692e+00, 3.54998594e+00,\n",
       "        3.59998496e+00, 3.64998398e+00, 3.69998300e+00, 3.74998202e+00,\n",
       "        3.79998104e+00, 3.84998006e+00, 3.89997908e+00, 3.94997811e+00,\n",
       "        3.99997713e+00, 4.04997615e+00, 4.09997517e+00, 4.14997419e+00,\n",
       "        4.19997321e+00, 4.24997223e+00, 4.29997125e+00, 4.34997027e+00,\n",
       "        4.39996929e+00, 4.44996832e+00, 4.49996734e+00, 4.54996636e+00,\n",
       "        4.59996538e+00, 4.64996440e+00, 4.69996342e+00, 4.74996244e+00,\n",
       "        4.79996146e+00, 4.84996048e+00, 4.89995950e+00, 4.94995852e+00,\n",
       "        4.99995755e+00]),\n",
       " <BarContainer object of 100 artists>)"
      ]
     },
     "execution_count": 12,
     "metadata": {},
     "output_type": "execute_result"
    },
    {
     "data": {
      "image/png": "[encoded data removed]",
      "text/plain": [
       "<Figure size 432x288 with 1 Axes>"
      ]
     },
     "metadata": {
      "needs_background": "light"
     },
     "output_type": "display_data"
    }
   ],
   "source": [
    "data_random3 = np.random.uniform(0.0, 5.0, 100000)\n",
    "plt.hist(data_random3, 100)"
   ]
  },
  {
   "cell_type": "markdown",
   "id": "8b98fc89",
   "metadata": {},
   "source": [
    "## Normal Data Distribution"
   ]
  },
  {
   "cell_type": "code",
   "execution_count": 13,
   "id": "c76f68df",
   "metadata": {},
   "outputs": [
    {
     "data": {
      "text/plain": [
       "(array([1.000e+00, 0.000e+00, 0.000e+00, 4.000e+00, 1.000e+00, 4.000e+00,\n",
       "        4.000e+00, 5.000e+00, 1.000e+01, 6.000e+00, 1.300e+01, 1.000e+01,\n",
       "        1.900e+01, 3.100e+01, 4.600e+01, 5.400e+01, 6.300e+01, 6.400e+01,\n",
       "        9.700e+01, 1.200e+02, 1.540e+02, 2.360e+02, 2.770e+02, 3.000e+02,\n",
       "        3.500e+02, 4.440e+02, 5.150e+02, 6.300e+02, 7.030e+02, 8.610e+02,\n",
       "        9.180e+02, 1.058e+03, 1.183e+03, 1.473e+03, 1.585e+03, 1.672e+03,\n",
       "        1.995e+03, 2.060e+03, 2.279e+03, 2.550e+03, 2.638e+03, 2.823e+03,\n",
       "        2.966e+03, 3.127e+03, 3.223e+03, 3.330e+03, 3.330e+03, 3.508e+03,\n",
       "        3.461e+03, 3.535e+03, 3.446e+03, 3.364e+03, 3.269e+03, 3.273e+03,\n",
       "        3.123e+03, 2.943e+03, 2.815e+03, 2.647e+03, 2.479e+03, 2.163e+03,\n",
       "        2.164e+03, 1.854e+03, 1.764e+03, 1.562e+03, 1.355e+03, 1.209e+03,\n",
       "        1.118e+03, 9.550e+02, 8.240e+02, 7.010e+02, 5.710e+02, 4.930e+02,\n",
       "        4.160e+02, 3.720e+02, 2.660e+02, 2.380e+02, 1.780e+02, 1.350e+02,\n",
       "        1.160e+02, 9.700e+01, 7.200e+01, 6.500e+01, 5.900e+01, 2.900e+01,\n",
       "        3.900e+01, 1.500e+01, 1.700e+01, 1.800e+01, 8.000e+00, 1.000e+01,\n",
       "        6.000e+00, 4.000e+00, 3.000e+00, 2.000e+00, 3.000e+00, 1.000e+00,\n",
       "        0.000e+00, 2.000e+00, 0.000e+00, 1.000e+00]),\n",
       " array([-42.62126779, -41.74986598, -40.87846416, -40.00706235,\n",
       "        -39.13566053, -38.26425871, -37.3928569 , -36.52145508,\n",
       "        -35.65005327, -34.77865145, -33.90724964, -33.03584782,\n",
       "        -32.16444601, -31.29304419, -30.42164237, -29.55024056,\n",
       "        -28.67883874, -27.80743693, -26.93603511, -26.0646333 ,\n",
       "        -25.19323148, -24.32182967, -23.45042785, -22.57902603,\n",
       "        -21.70762422, -20.8362224 , -19.96482059, -19.09341877,\n",
       "        -18.22201696, -17.35061514, -16.47921333, -15.60781151,\n",
       "        -14.73640969, -13.86500788, -12.99360606, -12.12220425,\n",
       "        -11.25080243, -10.37940062,  -9.5079988 ,  -8.63659699,\n",
       "         -7.76519517,  -6.89379335,  -6.02239154,  -5.15098972,\n",
       "         -4.27958791,  -3.40818609,  -2.53678428,  -1.66538246,\n",
       "         -0.79398065,   0.07742117,   0.94882299,   1.8202248 ,\n",
       "          2.69162662,   3.56302843,   4.43443025,   5.30583206,\n",
       "          6.17723388,   7.04863569,   7.92003751,   8.79143933,\n",
       "          9.66284114,  10.53424296,  11.40564477,  12.27704659,\n",
       "         13.1484484 ,  14.01985022,  14.89125203,  15.76265385,\n",
       "         16.63405567,  17.50545748,  18.3768593 ,  19.24826111,\n",
       "         20.11966293,  20.99106474,  21.86246656,  22.73386837,\n",
       "         23.60527019,  24.47667201,  25.34807382,  26.21947564,\n",
       "         27.09087745,  27.96227927,  28.83368108,  29.7050829 ,\n",
       "         30.57648471,  31.44788653,  32.31928835,  33.19069016,\n",
       "         34.06209198,  34.93349379,  35.80489561,  36.67629742,\n",
       "         37.54769924,  38.41910105,  39.29050287,  40.16190469,\n",
       "         41.0333065 ,  41.90470832,  42.77611013,  43.64751195,\n",
       "         44.51891376]),\n",
       " <BarContainer object of 100 artists>)"
      ]
     },
     "execution_count": 13,
     "metadata": {},
     "output_type": "execute_result"
    },
    {
     "data": {
      "image/png": "[encoded data removed]",
      "text/plain": [
       "<Figure size 432x288 with 1 Axes>"
      ]
     },
     "metadata": {
      "needs_background": "light"
     },
     "output_type": "display_data"
    }
   ],
   "source": [
    "data_normal = np.random.normal(0, 10, 100000)\n",
    "plt.hist(data_normal, 100)"
   ]
  },
  {
   "cell_type": "markdown",
   "id": "231aab78",
   "metadata": {},
   "source": [
    "## Scatter Plot"
   ]
  },
  {
   "cell_type": "code",
   "execution_count": 14,
   "id": "6eec6719",
   "metadata": {},
   "outputs": [
    {
     "data": {
      "text/plain": [
       "<matplotlib.collections.PathCollection at 0x7f22e30d43d0>"
      ]
     },
     "execution_count": 14,
     "metadata": {},
     "output_type": "execute_result"
    },
    {
     "data": {
      "image/png": "[encoded data removed]",
      "text/plain": [
       "<Figure size 432x288 with 1 Axes>"
      ]
     },
     "metadata": {
      "needs_background": "light"
     },
     "output_type": "display_data"
    }
   ],
   "source": [
    "x = np.random.uniform(0.0, 5, 40)\n",
    "y = np.random.uniform(4.0, 7, 40)\n",
    "\n",
    "plt.scatter(x,y)"
   ]
  },
  {
   "cell_type": "markdown",
   "id": "b06f6429",
   "metadata": {},
   "source": [
    "## Random Plot"
   ]
  },
  {
   "cell_type": "code",
   "execution_count": 15,
   "id": "9e416da9",
   "metadata": {},
   "outputs": [
    {
     "data": {
      "text/plain": [
       "<matplotlib.collections.PathCollection at 0x7f22e093bad0>"
      ]
     },
     "execution_count": 15,
     "metadata": {},
     "output_type": "execute_result"
    },
    {
     "data": {
      "image/png": "[encoded data removed]",
      "text/plain": [
       "<Figure size 432x288 with 1 Axes>"
      ]
     },
     "metadata": {
      "needs_background": "light"
     },
     "output_type": "display_data"
    }
   ],
   "source": [
    "x = np.random.normal(3.0, 0.01, 400)\n",
    "y = np.random.normal(4.0, 3, 400)\n",
    "\n",
    "plt.scatter(x,y)"
   ]
  },
  {
   "cell_type": "markdown",
   "id": "51e057f3",
   "metadata": {},
   "source": [
    "## Linear Regression"
   ]
  },
  {
   "cell_type": "code",
   "execution_count": 16,
   "id": "a853a421",
   "metadata": {},
   "outputs": [
    {
     "data": {
      "image/png": "[encoded data removed]",
      "text/plain": [
       "<Figure size 432x288 with 1 Axes>"
      ]
     },
     "metadata": {
      "needs_background": "light"
     },
     "output_type": "display_data"
    }
   ],
   "source": [
    "x = np.random.normal(0, 0.1, 50)\n",
    "y = np.random.normal(0, 1.0, 50)\n",
    "\n",
    "slope, intercept, r, p, std_err = stats.linregress(x,y)\n",
    "\n",
    "def line_func(x):\n",
    "  return slope * x + intercept\n",
    "\n",
    "mymodel = list(map(line_func, x))\n",
    "\n",
    "plt.scatter(x, y)\n",
    "plt.plot(x, mymodel)\n",
    "plt.show()"
   ]
  },
  {
   "cell_type": "markdown",
   "id": "16de34a0",
   "metadata": {},
   "source": [
    "##### The r value ranges from -1 to 1, where 0 means no relationship, and 1 (and -1) means 100% related."
   ]
  },
  {
   "cell_type": "code",
   "execution_count": 17,
   "id": "923ee4b0",
   "metadata": {},
   "outputs": [
    {
     "name": "stdout",
     "output_type": "stream",
     "text": [
      "-0.2850766842032366 0.04478550941674587 1.715262444354073\n"
     ]
    }
   ],
   "source": [
    "print(r, p, std_err)"
   ]
  },
  {
   "cell_type": "markdown",
   "id": "2e950f8b",
   "metadata": {},
   "source": [
    "## Polynomial Regression"
   ]
  },
  {
   "cell_type": "code",
   "execution_count": 18,
   "id": "69afe59b",
   "metadata": {},
   "outputs": [
    {
     "data": {
      "image/png": "[encoded data removed]",
      "text/plain": [
       "<Figure size 432x288 with 1 Axes>"
      ]
     },
     "metadata": {
      "needs_background": "light"
     },
     "output_type": "display_data"
    }
   ],
   "source": [
    "x = [1,2,3,5,6,7,8,9,10,12,13,14,15,16,18,19,21,22]\n",
    "y = [100,90,80,60,60,55,60,65,70,80,75,76,78,79,90,99,99,100]\n",
    "\n",
    "mymodel = np.poly1d(np.polyfit(x, y, deg=3))\n",
    "\n",
    "myline = np.linspace(1, 22, 100)\n",
    "\n",
    "plt.plot(myline, mymodel(myline))\n",
    "plt.scatter(x, y)\n",
    "plt.show()"
   ]
  },
  {
   "cell_type": "code",
   "execution_count": 19,
   "id": "1ada23df",
   "metadata": {},
   "outputs": [
    {
     "data": {
      "text/plain": [
       "array([-3.09111647e-02,  1.34786167e+00, -1.53548815e+01,  1.13158094e+02])"
      ]
     },
     "execution_count": 19,
     "metadata": {},
     "output_type": "execute_result"
    }
   ],
   "source": [
    "np.polyfit(x, y, 3)  # ax^3 + bx^2 + cx + d = 0"
   ]
  },
  {
   "cell_type": "markdown",
   "id": "4952bef4",
   "metadata": {},
   "source": [
    "## R-Squared"
   ]
  },
  {
   "cell_type": "code",
   "execution_count": 20,
   "id": "402cfae9",
   "metadata": {},
   "outputs": [
    {
     "name": "stdout",
     "output_type": "stream",
     "text": [
      "0.9432150416451026\n"
     ]
    }
   ],
   "source": [
    "from sklearn.metrics import r2_score\n",
    "\n",
    "x = [1,2,3,5,6,7,8,9,10,12,13,14,15,16,18,19,21,22]\n",
    "y = [100,90,80,60,60,55,60,65,70,70,75,76,78,79,90,99,99,100]\n",
    "\n",
    "mymodel = np.poly1d(np.polyfit(x, y, 3))\n",
    "\n",
    "print(r2_score(y, mymodel(x)))"
   ]
  },
  {
   "cell_type": "markdown",
   "id": "f94689a2",
   "metadata": {},
   "source": [
    "#### try to rewrite R2 score    - source:  [link](https://en.wikipedia.org/wiki/Coefficient_of_determination)"
   ]
  },
  {
   "cell_type": "code",
   "execution_count": 21,
   "id": "9ade47ea",
   "metadata": {},
   "outputs": [],
   "source": [
    "def my_r2(y_real, y_pred):\n",
    "    SStot = np.sum((y_real - np.mean(y_real))**2)\n",
    "    SSres = np.sum((y_real - y_pred)**2)\n",
    "    return 1 - (SSres/ SStot)"
   ]
  },
  {
   "cell_type": "code",
   "execution_count": 22,
   "id": "1cb87f1a",
   "metadata": {},
   "outputs": [
    {
     "data": {
      "text/plain": [
       "0.9432150416451026"
      ]
     },
     "execution_count": 22,
     "metadata": {},
     "output_type": "execute_result"
    }
   ],
   "source": [
    "my_r2(y, mymodel(x))"
   ]
  },
  {
   "cell_type": "code",
   "execution_count": 23,
   "id": "70e029b8",
   "metadata": {},
   "outputs": [
    {
     "data": {
      "image/png": "[encoded data removed]",
      "text/plain": [
       "<Figure size 432x288 with 1 Axes>"
      ]
     },
     "metadata": {
      "needs_background": "light"
     },
     "output_type": "display_data"
    }
   ],
   "source": [
    "x = [89,43,36,36,95,10,66,34,38,20,26,29,48,64,6,5,36,66,72,40]\n",
    "y = [21,46,3,35,67,95,53,72,58,10,26,34,90,33,38,20,56,2,47,15]\n",
    "\n",
    "mymodel = np.poly1d(np.polyfit(x, y, 4))\n",
    "\n",
    "myline = np.linspace(2, 95, 100)\n",
    "\n",
    "plt.scatter(x, y)\n",
    "plt.plot(myline, mymodel(myline))\n",
    "plt.show()"
   ]
  },
  {
   "cell_type": "code",
   "execution_count": 24,
   "id": "000fef33",
   "metadata": {},
   "outputs": [
    {
     "name": "stdout",
     "output_type": "stream",
     "text": [
      "0.06665005205288455\n",
      "0.06665005205288455\n"
     ]
    }
   ],
   "source": [
    "print(r2_score(y, mymodel(x)))\n",
    "print(my_r2(y, mymodel(x)))"
   ]
  },
  {
   "cell_type": "code",
   "execution_count": null,
   "id": "f6868b76",
   "metadata": {},
   "outputs": [],
   "source": []
  },
  {
   "cell_type": "markdown",
   "id": "4a5db5d5",
   "metadata": {},
   "source": [
    "## Multiple Regression"
   ]
  },
  {
   "cell_type": "code",
   "execution_count": 25,
   "id": "2c037873",
   "metadata": {},
   "outputs": [],
   "source": [
    "import pandas as pd"
   ]
  },
  {
   "cell_type": "code",
   "execution_count": 26,
   "id": "80182244",
   "metadata": {},
   "outputs": [],
   "source": [
    "df = pd.read_csv('cars.csv')"
   ]
  },
  {
   "cell_type": "code",
   "execution_count": 27,
   "id": "c6087e85",
   "metadata": {},
   "outputs": [
    {
     "data": {
      "text/html": [
       "<div>\n",
       "<style scoped>\n",
       "    .dataframe tbody tr th:only-of-type {\n",
       "        vertical-align: middle;\n",
       "    }\n",
       "\n",
       "    .dataframe tbody tr th {\n",
       "        vertical-align: top;\n",
       "    }\n",
       "\n",
       "    .dataframe thead th {\n",
       "        text-align: right;\n",
       "    }\n",
       "</style>\n",
       "<table border=\"1\" class=\"dataframe\">\n",
       "  <thead>\n",
       "    <tr style=\"text-align: right;\">\n",
       "      <th></th>\n",
       "      <th>Car</th>\n",
       "      <th>Model</th>\n",
       "      <th>Volume</th>\n",
       "      <th>Weight</th>\n",
       "      <th>CO2</th>\n",
       "    </tr>\n",
       "  </thead>\n",
       "  <tbody>\n",
       "    <tr>\n",
       "      <th>0</th>\n",
       "      <td>Toyoty</td>\n",
       "      <td>Aygo</td>\n",
       "      <td>1000</td>\n",
       "      <td>790</td>\n",
       "      <td>99</td>\n",
       "    </tr>\n",
       "    <tr>\n",
       "      <th>1</th>\n",
       "      <td>Mitsubishi</td>\n",
       "      <td>Space Star</td>\n",
       "      <td>1200</td>\n",
       "      <td>1160</td>\n",
       "      <td>95</td>\n",
       "    </tr>\n",
       "    <tr>\n",
       "      <th>2</th>\n",
       "      <td>Skoda</td>\n",
       "      <td>Citigo</td>\n",
       "      <td>1000</td>\n",
       "      <td>929</td>\n",
       "      <td>95</td>\n",
       "    </tr>\n",
       "    <tr>\n",
       "      <th>3</th>\n",
       "      <td>Fiat</td>\n",
       "      <td>500</td>\n",
       "      <td>900</td>\n",
       "      <td>865</td>\n",
       "      <td>90</td>\n",
       "    </tr>\n",
       "    <tr>\n",
       "      <th>4</th>\n",
       "      <td>Mini</td>\n",
       "      <td>Cooper</td>\n",
       "      <td>1500</td>\n",
       "      <td>1140</td>\n",
       "      <td>105</td>\n",
       "    </tr>\n",
       "  </tbody>\n",
       "</table>\n",
       "</div>"
      ],
      "text/plain": [
       "          Car       Model  Volume  Weight  CO2\n",
       "0      Toyoty        Aygo    1000     790   99\n",
       "1  Mitsubishi  Space Star    1200    1160   95\n",
       "2       Skoda      Citigo    1000     929   95\n",
       "3        Fiat         500     900     865   90\n",
       "4        Mini      Cooper    1500    1140  105"
      ]
     },
     "execution_count": 27,
     "metadata": {},
     "output_type": "execute_result"
    }
   ],
   "source": [
    "df.head()"
   ]
  },
  {
   "cell_type": "code",
   "execution_count": 28,
   "id": "355b8bce",
   "metadata": {},
   "outputs": [],
   "source": [
    "X = df[['Volume', 'Weight']]\n",
    "y = df['CO2']"
   ]
  },
  {
   "cell_type": "code",
   "execution_count": 29,
   "id": "17b34cb9",
   "metadata": {},
   "outputs": [
    {
     "data": {
      "text/plain": [
       "LinearRegression()"
      ]
     },
     "execution_count": 29,
     "metadata": {},
     "output_type": "execute_result"
    }
   ],
   "source": [
    "from sklearn import linear_model\n",
    "model = linear_model.LinearRegression()\n",
    "model.fit(X, y)"
   ]
  },
  {
   "cell_type": "code",
   "execution_count": 30,
   "id": "7141da5b",
   "metadata": {},
   "outputs": [
    {
     "name": "stdout",
     "output_type": "stream",
     "text": [
      "[103.17015142]\n"
     ]
    }
   ],
   "source": [
    "print(model.predict([[1750, 1300]]))"
   ]
  },
  {
   "cell_type": "code",
   "execution_count": 31,
   "id": "f53abdad",
   "metadata": {},
   "outputs": [
    {
     "name": "stderr",
     "output_type": "stream",
     "text": [
      "/home/jhamed/miniconda3/envs/pyclass/lib/python3.7/site-packages/ipykernel_launcher.py:5: MatplotlibDeprecationWarning: Axes3D(fig) adding itself to the figure is deprecated since 3.4. Pass the keyword argument auto_add_to_figure=False and use fig.add_axes(ax) to suppress this warning. The default value of auto_add_to_figure will change to False in mpl3.5 and True values will no longer work in 3.6.  This is consistent with other Axes classes.\n",
      "  \"\"\"\n"
     ]
    },
    {
     "data": {
      "image/png": "[encoded data removed]",
      "text/plain": [
       "<Figure size 432x288 with 1 Axes>"
      ]
     },
     "metadata": {
      "needs_background": "light"
     },
     "output_type": "display_data"
    }
   ],
   "source": [
    "from mpl_toolkits.mplot3d import Axes3D\n",
    "from matplotlib import cm\n",
    "\n",
    "fig = plt.figure()\n",
    "ax = Axes3D(fig)\n",
    "\n",
    "#ax.plot_trisurf(df['Weight'], df['Volume'], df['CO2'], cmap=cm.jet, linewidth=0.2)\n",
    "ax.scatter(df['Weight'], df['Volume'], df['CO2'], c=\"r\", marker='o')\n",
    "plt.show()"
   ]
  },
  {
   "cell_type": "code",
   "execution_count": 32,
   "id": "1fb24e01",
   "metadata": {},
   "outputs": [
    {
     "name": "stdout",
     "output_type": "stream",
     "text": [
      "[0.00780526 0.00755095]\n"
     ]
    }
   ],
   "source": [
    "print(model.coef_)"
   ]
  },
  {
   "cell_type": "code",
   "execution_count": null,
   "id": "b5c164c6",
   "metadata": {},
   "outputs": [],
   "source": []
  },
  {
   "cell_type": "markdown",
   "id": "42a406a4",
   "metadata": {},
   "source": [
    "## Scale"
   ]
  },
  {
   "cell_type": "markdown",
   "id": "d926eed3",
   "metadata": {},
   "source": [
    "The standardization method uses this formula:\n",
    "\n",
    "z = (x - u) / s  Where z is the new value, x is the original value, u is the mean and s is the standard deviation."
   ]
  },
  {
   "cell_type": "code",
   "execution_count": 33,
   "id": "b095d6b6",
   "metadata": {},
   "outputs": [
    {
     "name": "stdout",
     "output_type": "stream",
     "text": [
      "[[-1.59336644 -2.10389253]\n",
      " [-1.07190106 -0.55407235]\n",
      " [-1.59336644 -1.52166278]\n",
      " [-1.85409913 -1.78973979]\n",
      " [-0.28970299 -0.63784641]\n",
      " [-1.59336644 -1.52166278]\n",
      " [-0.55043568 -0.76769621]\n",
      " [-0.28970299  0.3046118 ]\n",
      " [-0.28970299 -0.7551301 ]\n",
      " [-0.0289703  -0.59595938]\n",
      " [-1.33263375 -1.30803892]\n",
      " [-0.81116837 -1.26615189]\n",
      " [-1.59336644 -0.7551301 ]\n",
      " [-0.0289703  -0.16871166]\n",
      " [-0.0289703   0.14125238]\n",
      " [-0.0289703   0.15800719]\n",
      " [-0.0289703   0.3046118 ]\n",
      " [ 1.53542584 -0.05142797]\n",
      " [-0.0289703  -0.72580918]\n",
      " [ 1.01396046  0.14962979]\n",
      " [-0.0289703   1.2219378 ]\n",
      " [ 1.01396046  0.5685001 ]\n",
      " [ 1.27469315  0.3046118 ]\n",
      " [-0.0289703   0.51404696]\n",
      " [ 1.01396046  0.51404696]\n",
      " [-0.28970299  0.72348212]\n",
      " [ 1.01396046  0.8281997 ]\n",
      " [ 1.01396046  1.81254495]\n",
      " [-0.0289703   0.96642691]\n",
      " [ 1.01396046  1.72877089]\n",
      " [ 1.27469315  1.30990057]\n",
      " [ 1.01396046  1.90050772]\n",
      " [-0.0289703  -0.23991961]\n",
      " [-0.0289703   0.40932938]\n",
      " [-0.0289703   0.47215993]\n",
      " [ 2.31762392  0.4302729 ]]\n"
     ]
    }
   ],
   "source": [
    "from sklearn.preprocessing import StandardScaler\n",
    "scale = StandardScaler()\n",
    "\n",
    "# df = pandas.read_csv(\"cars2.csv\")\n",
    "# X = df[['Weight', 'Volume']]\n",
    "\n",
    "scaledX = scale.fit_transform(X)\n",
    "\n",
    "print(scaledX)"
   ]
  },
  {
   "cell_type": "code",
   "execution_count": 34,
   "id": "56853fc3",
   "metadata": {},
   "outputs": [
    {
     "name": "stdout",
     "output_type": "stream",
     "text": [
      "[107.2087328]\n"
     ]
    }
   ],
   "source": [
    "model.fit(scaledX, y)\n",
    "\n",
    "scaled = scale.transform([[1300,2300]])\n",
    "\n",
    "predictedCO2 = model.predict([scaled[0]])\n",
    "print(predictedCO2)"
   ]
  },
  {
   "cell_type": "code",
   "execution_count": null,
   "id": "b7150a56",
   "metadata": {},
   "outputs": [],
   "source": []
  },
  {
   "cell_type": "markdown",
   "id": "1820e464",
   "metadata": {},
   "source": [
    "## Train/Test"
   ]
  },
  {
   "cell_type": "code",
   "execution_count": 35,
   "id": "115a5468",
   "metadata": {},
   "outputs": [
    {
     "data": {
      "text/plain": [
       "<matplotlib.collections.PathCollection at 0x7f22d9608e10>"
      ]
     },
     "execution_count": 35,
     "metadata": {},
     "output_type": "execute_result"
    },
    {
     "data": {
      "image/png": "[encoded data removed]",
      "text/plain": [
       "<Figure size 432x288 with 1 Axes>"
      ]
     },
     "metadata": {
      "needs_background": "light"
     },
     "output_type": "display_data"
    }
   ],
   "source": [
    "np.random.seed(6)\n",
    "\n",
    "x = np.random.normal(3,1,100)\n",
    "y = np.random.normal(150,40,100) / x\n",
    "\n",
    "plt.scatter(x, y)"
   ]
  },
  {
   "cell_type": "code",
   "execution_count": 36,
   "id": "91425c7d",
   "metadata": {},
   "outputs": [],
   "source": [
    "indices = np.random.permutation(x.shape[0])\n",
    "training_idx, test_idx = indices[:80], indices[80:]\n",
    "train_x, test_x = x[training_idx], x[test_idx]\n",
    "train_y, test_y = y[training_idx], y[test_idx]"
   ]
  },
  {
   "cell_type": "code",
   "execution_count": 37,
   "id": "588e9308",
   "metadata": {},
   "outputs": [
    {
     "data": {
      "text/plain": [
       "((80,), (20,))"
      ]
     },
     "execution_count": 37,
     "metadata": {},
     "output_type": "execute_result"
    }
   ],
   "source": [
    "train_x.shape, test_x.shape"
   ]
  },
  {
   "cell_type": "code",
   "execution_count": 38,
   "id": "467303d6",
   "metadata": {},
   "outputs": [
    {
     "data": {
      "image/png": "[encoded data removed]",
      "text/plain": [
       "<Figure size 432x288 with 1 Axes>"
      ]
     },
     "metadata": {
      "needs_background": "light"
     },
     "output_type": "display_data"
    }
   ],
   "source": [
    "plt.scatter(train_x, train_y,marker='^')\n",
    "plt.scatter(test_x, test_y,marker='*')\n",
    "plt.show()"
   ]
  },
  {
   "cell_type": "code",
   "execution_count": 39,
   "id": "16b28791",
   "metadata": {},
   "outputs": [],
   "source": [
    "model_poly = np.poly1d(np.polyfit(train_x, train_y, 2))\n",
    "inputs = np.linspace(0,6,100)"
   ]
  },
  {
   "cell_type": "code",
   "execution_count": 40,
   "id": "a1c692ca",
   "metadata": {},
   "outputs": [
    {
     "data": {
      "image/png": "[encoded data removed]",
      "text/plain": [
       "<Figure size 432x288 with 1 Axes>"
      ]
     },
     "metadata": {
      "needs_background": "light"
     },
     "output_type": "display_data"
    }
   ],
   "source": [
    "plt.scatter(train_x, train_y)\n",
    "plt.plot(inputs, model_poly(inputs))\n",
    "plt.show()"
   ]
  },
  {
   "cell_type": "code",
   "execution_count": 41,
   "id": "bd78012d",
   "metadata": {},
   "outputs": [
    {
     "name": "stdout",
     "output_type": "stream",
     "text": [
      "0.7014367633465337\n"
     ]
    }
   ],
   "source": [
    "print(r2_score(train_y, model_poly(train_x)))"
   ]
  },
  {
   "cell_type": "code",
   "execution_count": 42,
   "id": "cc597361",
   "metadata": {},
   "outputs": [
    {
     "data": {
      "image/png": "[encoded data removed]",
      "text/plain": [
       "<Figure size 432x288 with 1 Axes>"
      ]
     },
     "metadata": {
      "needs_background": "light"
     },
     "output_type": "display_data"
    }
   ],
   "source": [
    "plt.scatter(test_x, model_poly(test_x))\n",
    "plt.scatter(test_x, test_y, marker='o')\n",
    "plt.show()"
   ]
  },
  {
   "cell_type": "code",
   "execution_count": 43,
   "id": "03e6f398",
   "metadata": {},
   "outputs": [
    {
     "name": "stdout",
     "output_type": "stream",
     "text": [
      "0.7552660470376164\n"
     ]
    }
   ],
   "source": [
    "print(r2_score(test_y, model_poly(test_x)))"
   ]
  },
  {
   "cell_type": "code",
   "execution_count": null,
   "id": "cbdaf618",
   "metadata": {},
   "outputs": [],
   "source": []
  },
  {
   "cell_type": "markdown",
   "id": "64be880a",
   "metadata": {},
   "source": [
    "## Decision Tree"
   ]
  },
  {
   "cell_type": "code",
   "execution_count": 44,
   "id": "5b62063e",
   "metadata": {},
   "outputs": [
    {
     "name": "stdout",
     "output_type": "stream",
     "text": [
      "    Age  Experience  Rank Nationality   Go\n",
      "0    36          10     9          UK   NO\n",
      "1    42          12     4         USA   NO\n",
      "2    23           4     6           N   NO\n",
      "3    52           4     4         USA   NO\n",
      "4    43          21     8         USA  YES\n",
      "5    44          14     5          UK   NO\n",
      "6    66           3     7           N  YES\n",
      "7    35          14     9          UK  YES\n",
      "8    52          13     7           N  YES\n",
      "9    35           5     9           N  YES\n",
      "10   24           3     5         USA   NO\n",
      "11   18           3     7          UK  YES\n",
      "12   45           9     9          UK  YES\n"
     ]
    }
   ],
   "source": [
    "from sklearn import tree\n",
    "import pydotplus\n",
    "from sklearn.tree import DecisionTreeClassifier\n",
    "import matplotlib.image as pltimg\n",
    "\n",
    "df = pd.read_csv(\"shows.csv\")\n",
    "\n",
    "print(df)"
   ]
  },
  {
   "cell_type": "code",
   "execution_count": 45,
   "id": "3fbc92e8",
   "metadata": {},
   "outputs": [
    {
     "name": "stdout",
     "output_type": "stream",
     "text": [
      "    Age  Experience  Rank  Nationality  Go\n",
      "0    36          10     9            0   0\n",
      "1    42          12     4            1   0\n",
      "2    23           4     6            2   0\n",
      "3    52           4     4            1   0\n",
      "4    43          21     8            1   1\n",
      "5    44          14     5            0   0\n",
      "6    66           3     7            2   1\n",
      "7    35          14     9            0   1\n",
      "8    52          13     7            2   1\n",
      "9    35           5     9            2   1\n",
      "10   24           3     5            1   0\n",
      "11   18           3     7            0   1\n",
      "12   45           9     9            0   1\n"
     ]
    }
   ],
   "source": [
    "d = {'UK': 0, 'USA': 1, 'N': 2}\n",
    "df['Nationality'] = df['Nationality'].map(d)\n",
    "d = {'YES': 1, 'NO': 0}\n",
    "df['Go'] = df['Go'].map(d)\n",
    "\n",
    "print(df)"
   ]
  },
  {
   "cell_type": "code",
   "execution_count": 46,
   "id": "675fdfcc",
   "metadata": {},
   "outputs": [
    {
     "name": "stdout",
     "output_type": "stream",
     "text": [
      "    Age  Experience  Rank  Nationality\n",
      "0    36          10     9            0\n",
      "1    42          12     4            1\n",
      "2    23           4     6            2\n",
      "3    52           4     4            1\n",
      "4    43          21     8            1\n",
      "5    44          14     5            0\n",
      "6    66           3     7            2\n",
      "7    35          14     9            0\n",
      "8    52          13     7            2\n",
      "9    35           5     9            2\n",
      "10   24           3     5            1\n",
      "11   18           3     7            0\n",
      "12   45           9     9            0\n",
      "0     0\n",
      "1     0\n",
      "2     0\n",
      "3     0\n",
      "4     1\n",
      "5     0\n",
      "6     1\n",
      "7     1\n",
      "8     1\n",
      "9     1\n",
      "10    0\n",
      "11    1\n",
      "12    1\n",
      "Name: Go, dtype: int64\n"
     ]
    }
   ],
   "source": [
    "features = ['Age', 'Experience', 'Rank', 'Nationality']\n",
    "\n",
    "X = df[features]\n",
    "y = df['Go']\n",
    "\n",
    "print(X)\n",
    "print(y)"
   ]
  },
  {
   "cell_type": "code",
   "execution_count": 47,
   "id": "0be96774",
   "metadata": {},
   "outputs": [
    {
     "data": {
      "image/png": "[encoded data removed]",
      "text/plain": [
       "<Figure size 432x288 with 1 Axes>"
      ]
     },
     "metadata": {
      "needs_background": "light"
     },
     "output_type": "display_data"
    }
   ],
   "source": [
    "dtree = DecisionTreeClassifier()\n",
    "dtree = dtree.fit(X, y)\n",
    "data = tree.export_graphviz(dtree, out_file=None, feature_names=features)\n",
    "graph = pydotplus.graph_from_dot_data(data)\n",
    "graph.write_png('mydecisiontree.png')\n",
    "\n",
    "img=pltimg.imread('mydecisiontree.png')\n",
    "imgplot = plt.imshow(img)\n",
    "plt.show()"
   ]
  },
  {
   "cell_type": "code",
   "execution_count": 48,
   "id": "ba656920",
   "metadata": {},
   "outputs": [
    {
     "name": "stdout",
     "output_type": "stream",
     "text": [
      "[1]\n"
     ]
    }
   ],
   "source": [
    "print(dtree.predict([[40, 10, 7, 1]]))"
   ]
  },
  {
   "cell_type": "code",
   "execution_count": null,
   "id": "8b4cc651",
   "metadata": {},
   "outputs": [],
   "source": []
  }
 ],
 "metadata": {
  "kernelspec": {
   "display_name": "Python 3 (ipykernel)",
   "language": "python",
   "name": "python3"
  },
  "language_info": {
   "codemirror_mode": {
    "name": "ipython",
    "version": 3
   },
   "file_extension": ".py",
   "mimetype": "text/x-python",
   "name": "python",
   "nbconvert_exporter": "python",
   "pygments_lexer": "ipython3",
   "version": "3.7.9"
  }
 },
 "nbformat": 4,
 "nbformat_minor": 5
}
